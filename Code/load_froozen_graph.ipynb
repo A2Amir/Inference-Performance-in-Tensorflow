{
 "cells": [
  {
   "cell_type": "code",
   "execution_count": 2,
   "metadata": {},
   "outputs": [
    {
     "name": "stdout",
     "output_type": "stream",
     "text": [
      "Extracting ../Code/data/train-images-idx3-ubyte.gz\n",
      "Extracting ../Code/data/train-labels-idx1-ubyte.gz\n",
      "Extracting ../Code/data/t10k-images-idx3-ubyte.gz\n",
      "Extracting ../Code/data/t10k-labels-idx1-ubyte.gz\n"
     ]
    }
   ],
   "source": [
    "import tensorflow as tf\n",
    "import os\n",
    "import matplotlib.pyplot as plt\n",
    "from tensorflow.examples.tutorials.mnist import input_data\n",
    "mnist=input_data.read_data_sets(\"../Code/data/\",one_hot=True)\n"
   ]
  },
  {
   "cell_type": "code",
   "execution_count": 3,
   "metadata": {},
   "outputs": [],
   "source": [
    "def load_froozen_graph(graph_file, use_xla=False):\n",
    "    jit_level = 0\n",
    "    config = tf.ConfigProto()\n",
    "    if use_xla:\n",
    "        jit_level = tf.OptimizerOptions.ON_1\n",
    "        config.graph_options.optimizer_options.global_jit_level = jit_level\n",
    "\n",
    "    with tf.Session(graph=tf.Graph(), config=config) as sess:\n",
    "        gd = tf.GraphDef()\n",
    "        with tf.gfile.Open(graph_file, 'rb') as f:\n",
    "            data = f.read()\n",
    "            gd.ParseFromString(data)\n",
    "        tf.import_graph_def(gd, name='')\n",
    "        ops = sess.graph.get_operations()\n",
    "        n_ops = len(ops)\n",
    "        print('Number of operation',n_ops) \n",
    "        return sess.graph, ops"
   ]
  },
  {
   "cell_type": "code",
   "execution_count": 4,
   "metadata": {},
   "outputs": [
    {
     "name": "stdout",
     "output_type": "stream",
     "text": [
      "Number of operation 28\n"
     ]
    }
   ],
   "source": [
    "graph,ops=load_froozen_graph('../Code/weights/frozen_model.pb',use_xla=False)"
   ]
  },
  {
   "cell_type": "code",
   "execution_count": 5,
   "metadata": {},
   "outputs": [
    {
     "name": "stdout",
     "output_type": "stream",
     "text": [
      "input_image\n",
      "Variable\n",
      "Variable/read\n",
      "Variable_1\n",
      "Variable_1/read\n",
      "Variable_2\n",
      "Variable_2/read\n",
      "Variable_3\n",
      "Variable_3/read\n",
      "Variable_4\n",
      "Variable_4/read\n",
      "Variable_5\n",
      "Variable_5/read\n",
      "Variable_6\n",
      "Variable_6/read\n",
      "Variable_7\n",
      "Variable_7/read\n",
      "MatMul\n",
      "Add\n",
      "Relu\n",
      "MatMul_1\n",
      "Add_1\n",
      "Relu_1\n",
      "MatMul_2\n",
      "Add_2\n",
      "Relu_2\n",
      "MatMul_3\n",
      "output\n"
     ]
    }
   ],
   "source": [
    "for op in ops:\n",
    "    print(op.name)#,op.node_def"
   ]
  },
  {
   "cell_type": "code",
   "execution_count": 6,
   "metadata": {},
   "outputs": [],
   "source": [
    "def prediction(graph,image):\n",
    "    \"\"\"\n",
    "        Generate test output using the test images and save them\n",
    "        :param graph: TF graph\n",
    "        :param w: TF Tensor for the weight\n",
    "    \"\"\"\n",
    "    input_image=graph.get_tensor_by_name('input_image:0')\n",
    "    output=graph.get_tensor_by_name('output:0')\n",
    "    y=tf.nn.softmax(output)\n",
    "    prediction_step=tf.argmax(y,1)\n",
    "    with tf.Session(graph=graph) as sess:\n",
    "        \n",
    "        sess.run(tf.local_variables_initializer())\n",
    "        prediction=sess.run(prediction_step,feed_dict={input_image:[image]})\n",
    "    return prediction       \n"
   ]
  },
  {
   "cell_type": "code",
   "execution_count": 11,
   "metadata": {},
   "outputs": [],
   "source": [
    "selected_image_number=45\n",
    "predict=prediction(graph,mnist.test.images[selected_image_number])"
   ]
  },
  {
   "cell_type": "code",
   "execution_count": 12,
   "metadata": {},
   "outputs": [
    {
     "data": {
      "text/plain": [
       "9"
      ]
     },
     "execution_count": 12,
     "metadata": {},
     "output_type": "execute_result"
    }
   ],
   "source": [
    "predict[0]"
   ]
  },
  {
   "cell_type": "code",
   "execution_count": 13,
   "metadata": {},
   "outputs": [],
   "source": [
    "image=mnist.test.images[selected_image_number].reshape(28,28)"
   ]
  },
  {
   "cell_type": "code",
   "execution_count": 14,
   "metadata": {},
   "outputs": [
    {
     "data": {
      "text/plain": [
       "<matplotlib.image.AxesImage at 0x17486915cf8>"
      ]
     },
     "execution_count": 14,
     "metadata": {},
     "output_type": "execute_result"
    },
    {
     "data": {
      "image/png": "[encoded data removed]",
      "text/plain": [
       "<Figure size 432x288 with 1 Axes>"
      ]
     },
     "metadata": {
      "needs_background": "light"
     },
     "output_type": "display_data"
    }
   ],
   "source": [
    "plt.imshow(image)"
   ]
  }
 ],
 "metadata": {
  "kernelspec": {
   "display_name": "Python 3",
   "language": "python",
   "name": "python3"
  },
  "language_info": {
   "codemirror_mode": {
    "name": "ipython",
    "version": 3
   },
   "file_extension": ".py",
   "mimetype": "text/x-python",
   "name": "python",
   "nbconvert_exporter": "python",
   "pygments_lexer": "ipython3",
   "version": "3.6.9"
  }
 },
 "nbformat": 4,
 "nbformat_minor": 2
}
