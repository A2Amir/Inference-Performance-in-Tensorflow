{
 "cells": [
  {
   "cell_type": "code",
   "execution_count": 2,
   "metadata": {},
   "outputs": [],
   "source": [
    "import tensorflow as tf\n",
    "import os"
   ]
  },
  {
   "cell_type": "code",
   "execution_count": 3,
   "metadata": {},
   "outputs": [],
   "source": [
    "# The original freeze_graph function\n",
    "# from tensorflow.python.tools.freeze_graph import freeze_graph \n",
    "\n",
    "def freez_graph(model_dir,output_node_names):\n",
    "    \"\"\"\n",
    "    Extract the sub graph defined by the output nodes and convert all its variables into constant\n",
    "    :model_dir:the root folder containing the checkpoint state file\n",
    "    :output_node_name:a string containing all the output node's name\n",
    "    \"\"\"\n",
    "    if not tf.gfile.Exists(model_dir):\n",
    "        raise AssertionError('Export Directory does not exist. Please specify an export directory: %s'%model_dir )\n",
    "    if not output_node_names:\n",
    "        print('You need to supply the name of a node')\n",
    "        return -1\n",
    "    #to retreive the checkpoint full path\n",
    "    checkepoint=tf.train.get_checkpoint_state(model_dir)\n",
    "    input_checkpoint=checkepoint.model_checkpoint_path\n",
    "    #print(input_checkpoint)\n",
    "    \n",
    "    #to precise the file fullname if the freezed graph\n",
    "    absolute_model_dir=\"/\".join(input_checkpoint.split('/')[:-1])\n",
    "    output_graph=absolute_model_dir+'/frozen_model.pb'\n",
    "    \n",
    "    #clear device to allow Tensorflow to control on which device it will load operations\n",
    "    clear_device=True\n",
    "    with tf.Session(graph=tf.Graph()) as sess:\n",
    "        #to import meta graph in the current default graph\n",
    "        saver=tf.train.import_meta_graph(input_checkpoint+'.meta',clear_devices=clear_device)\n",
    "        \n",
    "        #to restore the weights\n",
    "        saver.restore(sess,input_checkpoint)\n",
    "        \n",
    "        #using a built-in TF helper to export variables to constant\n",
    "        output_graph_def=tf.graph_util.convert_variables_to_constants(sess,\n",
    "                                                                    tf.get_default_graph().as_graph_def(),#the graph_def is used to retrieve the nodes\n",
    "                                                                    output_node_names.split(',')#the output node names are used to select the usefull nodes\n",
    "                                                                    )\n",
    "        #Finaldly to serialize and dump the output graph to the file system\n",
    "        with tf.gfile.GFile(output_graph,'wb') as f:\n",
    "            f.write(output_graph_def.SerializeToString())\n",
    "        print(\"%d ops in the final graph.\"%len(output_graph_def.node))\n",
    "    \n",
    "    return output_graph_def"
   ]
  },
  {
   "cell_type": "code",
   "execution_count": 4,
   "metadata": {},
   "outputs": [
    {
     "name": "stdout",
     "output_type": "stream",
     "text": [
      "WARNING:tensorflow:From C:\\Users\\ziaeeamir\\AppData\\Local\\Continuum\\anaconda3\\envs\\Huber\\lib\\site-packages\\tensorflow\\python\\training\\saver.py:1276: checkpoint_exists (from tensorflow.python.training.checkpoint_management) is deprecated and will be removed in a future version.\n",
      "Instructions for updating:\n",
      "Use standard file APIs to check for files with this prefix.\n",
      "INFO:tensorflow:Restoring parameters from ../Code/weights/model.ckpt\n",
      "WARNING:tensorflow:From <ipython-input-3-c47ba53084b8>:36: convert_variables_to_constants (from tensorflow.python.framework.graph_util_impl) is deprecated and will be removed in a future version.\n",
      "Instructions for updating:\n",
      "Use `tf.compat.v1.graph_util.convert_variables_to_constants`\n",
      "WARNING:tensorflow:From C:\\Users\\ziaeeamir\\AppData\\Local\\Continuum\\anaconda3\\envs\\Huber\\lib\\site-packages\\tensorflow\\python\\framework\\graph_util_impl.py:270: extract_sub_graph (from tensorflow.python.framework.graph_util_impl) is deprecated and will be removed in a future version.\n",
      "Instructions for updating:\n",
      "Use `tf.compat.v1.graph_util.extract_sub_graph`\n",
      "INFO:tensorflow:Froze 8 variables.\n",
      "INFO:tensorflow:Converted 8 variables to const ops.\n",
      "28 ops in the final graph.\n"
     ]
    }
   ],
   "source": [
    "output_graph_def=freez_graph('../Code/weights/',\"input_image,output\")"
   ]
  },
  {
   "cell_type": "code",
   "execution_count": null,
   "metadata": {},
   "outputs": [],
   "source": [
    "output_graph_def.node"
   ]
  }
 ],
 "metadata": {
  "kernelspec": {
   "display_name": "Python 3",
   "language": "python",
   "name": "python3"
  },
  "language_info": {
   "codemirror_mode": {
    "name": "ipython",
    "version": 3
   },
   "file_extension": ".py",
   "mimetype": "text/x-python",
   "name": "python",
   "nbconvert_exporter": "python",
   "pygments_lexer": "ipython3",
   "version": "3.6.9"
  }
 },
 "nbformat": 4,
 "nbformat_minor": 2
}
