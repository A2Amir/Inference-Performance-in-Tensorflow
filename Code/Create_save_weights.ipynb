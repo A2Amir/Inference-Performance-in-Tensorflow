{
 "cells": [
  {
   "cell_type": "code",
   "execution_count": 4,
   "metadata": {},
   "outputs": [
    {
     "name": "stdout",
     "output_type": "stream",
     "text": [
      "Extracting ../Code/data/train-images-idx3-ubyte.gz\n",
      "Extracting ../Code/data/train-labels-idx1-ubyte.gz\n",
      "Extracting ../Code/data/t10k-images-idx3-ubyte.gz\n",
      "Extracting ../Code/data/t10k-labels-idx1-ubyte.gz\n"
     ]
    }
   ],
   "source": [
    "import tensorflow as tf\n",
    "from tensorflow.examples.tutorials.mnist import input_data\n",
    "mnist = input_data.read_data_sets(\"../Code/data/\", one_hot = True)\n"
   ]
  },
  {
   "cell_type": "code",
   "execution_count": 8,
   "metadata": {},
   "outputs": [],
   "source": [
    "hl1 = 1000\n",
    "hl2 = 1000\n",
    "hl3 = 1000\n",
    "\n",
    "outputl = 10\n",
    "batch = 100"
   ]
  },
  {
   "cell_type": "code",
   "execution_count": 9,
   "metadata": {},
   "outputs": [],
   "source": [
    "tf.reset_default_graph()\n",
    "x = tf.placeholder('float', [None, 784],name='input_image')\n",
    "y = tf.placeholder('float',name='label')\n",
    "\n",
    "def nnmodel(data):\n",
    "    hidden_1_layer = {'weights':tf.Variable(tf.random_normal([784, hl1])),\n",
    "                      'biases':tf.Variable(tf.random_normal([hl1]))}\n",
    "\n",
    "    hidden_2_layer = {'weights':tf.Variable(tf.random_normal([hl1, hl2])),\n",
    "                      'biases':tf.Variable(tf.random_normal([hl2]))}\n",
    "\n",
    "    hidden_3_layer = {'weights':tf.Variable(tf.random_normal([hl2, hl3])),\n",
    "                      'biases':tf.Variable(tf.random_normal([hl3]))}\n",
    "\n",
    "    output_layer = {'weights':tf.Variable(tf.random_normal([hl3, outputl])),\n",
    "                    'biases':tf.Variable(tf.random_normal([outputl])),}\n",
    "\n",
    "\n",
    "    l1 = tf.add(tf.matmul(data,hidden_1_layer['weights']), hidden_1_layer['biases'])\n",
    "    l1 = tf.nn.relu(l1)\n",
    "\n",
    "    l2 = tf.add(tf.matmul(l1,hidden_2_layer['weights']), hidden_2_layer['biases'])\n",
    "    l2 = tf.nn.relu(l2)\n",
    "\n",
    "    l3 = tf.add(tf.matmul(l2,hidden_3_layer['weights']), hidden_3_layer['biases'])\n",
    "    l3 = tf.nn.relu(l3)\n",
    "\n",
    "    output = tf.add(tf.matmul(l3,output_layer['weights']) , output_layer['biases'],name='output')\n",
    "\n",
    "    return output"
   ]
  },
  {
   "cell_type": "code",
   "execution_count": 10,
   "metadata": {},
   "outputs": [],
   "source": [
    "def train(x):\n",
    "    prediction = nnmodel(x)\n",
    "    \n",
    "    cost = tf.reduce_mean( tf.nn.softmax_cross_entropy_with_logits(logits=prediction, labels=y) )\n",
    "    optimizer = tf.train.AdamOptimizer(learning_rate=0.003).minimize(cost)\n",
    "    \n",
    "    epochs = 20\n",
    "    with tf.Session() as sess:\n",
    "    \n",
    "        sess.run(tf.global_variables_initializer())\n",
    "\n",
    "        print('Total Epochs:', epochs)\n",
    "\n",
    "        for epoch in range(epochs):\n",
    "            epoch_loss = 0\n",
    "            for _ in range(int(mnist.train.num_examples/batch)):\n",
    "                epoch_x, epoch_y = mnist.train.next_batch(batch)\n",
    "                _, c = sess.run([optimizer, cost], feed_dict={x: epoch_x, y: epoch_y})\n",
    "                epoch_loss += c\n",
    "\n",
    "            print('Epoch', epoch, 'loss:',epoch_loss)\n",
    "\n",
    "        correct = tf.equal(tf.argmax(prediction, 1), tf.argmax(y, 1))\n",
    "\n",
    "        accuracy = tf.reduce_mean(tf.cast(correct, 'float'))\n",
    "        print('Accuracy:',accuracy.eval({x:mnist.test.images, y:mnist.test.labels}))\n",
    "        \n",
    "        if epoch==14:\n",
    "            saver=tf.train.Saver()\n",
    "            saver.save(sess, '../Code/weights/model.ckpt')"
   ]
  },
  {
   "cell_type": "code",
   "execution_count": 11,
   "metadata": {},
   "outputs": [
    {
     "name": "stdout",
     "output_type": "stream",
     "text": [
      "WARNING:tensorflow:From <ipython-input-10-9740f30e6c25>:4: softmax_cross_entropy_with_logits (from tensorflow.python.ops.nn_ops) is deprecated and will be removed in a future version.\n",
      "Instructions for updating:\n",
      "\n",
      "Future major versions of TensorFlow will allow gradients to flow\n",
      "into the labels input on backprop by default.\n",
      "\n",
      "See `tf.nn.softmax_cross_entropy_with_logits_v2`.\n",
      "\n",
      "Total Epochs: 20\n",
      "Epoch 0 loss: 2532776.6729774475\n",
      "Epoch 1 loss: 499940.7185306549\n",
      "Epoch 2 loss: 227736.64991283417\n",
      "Epoch 3 loss: 166561.9040942192\n",
      "Epoch 4 loss: 122630.2419770956\n",
      "Epoch 5 loss: 111758.59751293063\n",
      "Epoch 6 loss: 101590.19542706013\n",
      "Epoch 7 loss: 82696.30823409557\n",
      "Epoch 8 loss: 88165.27127623558\n",
      "Epoch 9 loss: 75242.9533765471\n",
      "Epoch 10 loss: 67208.33158779144\n",
      "Epoch 11 loss: 66658.8314086747\n",
      "Epoch 12 loss: 58711.19399172813\n",
      "Epoch 13 loss: 50973.25668001175\n",
      "Epoch 14 loss: 60702.436997145414\n",
      "Epoch 15 loss: 44215.906311664265\n",
      "Epoch 16 loss: 40600.05328945325\n",
      "Epoch 17 loss: 39448.31018091738\n",
      "Epoch 18 loss: 49549.83105111122\n",
      "Epoch 19 loss: 36922.65961146355\n",
      "Accuracy: 0.9701\n"
     ]
    }
   ],
   "source": [
    "train(x)"
   ]
  },
  {
   "cell_type": "code",
   "execution_count": null,
   "metadata": {},
   "outputs": [],
   "source": []
  }
 ],
 "metadata": {
  "kernelspec": {
   "display_name": "Python 3",
   "language": "python",
   "name": "python3"
  },
  "language_info": {
   "codemirror_mode": {
    "name": "ipython",
    "version": 3
   },
   "file_extension": ".py",
   "mimetype": "text/x-python",
   "name": "python",
   "nbconvert_exporter": "python",
   "pygments_lexer": "ipython3",
   "version": "3.6.9"
  }
 },
 "nbformat": 4,
 "nbformat_minor": 2
}
