{
 "cells": [
  {
   "cell_type": "code",
   "execution_count": 2,
   "metadata": {},
   "outputs": [],
   "source": [
    "import tensorflow as tf\n",
    "from tensorflow.tools.graph_transforms import TransformGraph"
   ]
  },
  {
   "cell_type": "code",
   "execution_count": 3,
   "metadata": {},
   "outputs": [],
   "source": [
    "frozen_graph_path=\"../Code/weights/frozen_model.pb\"\n",
    "Eightbit_optimized_graph_path=\"../Code/weights/Eightbit_OptimizedGraph.pb\"\n",
    "    "
   ]
  },
  {
   "cell_type": "code",
   "execution_count": 26,
   "metadata": {},
   "outputs": [],
   "source": [
    "transforms=['add_default_attributes','remove_nodes(op=Identity, op=CheckNumerics)','fold_constants(ignore_errors=true)','fold_batch_norms',  'fold_old_batch_norms','fuse_resize_and_conv','quantize_weights','quantize_nodes','strip_unused_nodes','sort_by_execution_order']"
   ]
  },
  {
   "cell_type": "code",
   "execution_count": 30,
   "metadata": {},
   "outputs": [
    {
     "name": "stdout",
     "output_type": "stream",
     "text": [
      "WARNING:tensorflow:From <ipython-input-30-577660c87c9f>:10: FastGFile.__init__ (from tensorflow.python.platform.gfile) is deprecated and will be removed in a future version.\n",
      "Instructions for updating:\n",
      "Use tf.gfile.GFile.\n"
     ]
    }
   ],
   "source": [
    "inputGraph=tf.GraphDef()\n",
    "with tf.gfile.Open(frozen_graph_path,'rb') as f:\n",
    "    read=f.read()\n",
    "    inputGraph.ParseFromString(read)\n",
    "\n",
    "Output_graph=TransformGraph(inputGraph,\n",
    "                            ['input_image'],# an array of the input node(s),\n",
    "                            ['output'],# an array of the output node(s)\n",
    "                            transforms)\n",
    "f=tf.gfile.FastGFile(Eightbit_optimized_graph_path,'wb')\n",
    "f.write(Output_graph.SerializeToString())"
   ]
  }
 ],
 "metadata": {
  "kernelspec": {
   "display_name": "Python 3",
   "language": "python",
   "name": "python3"
  },
  "language_info": {
   "codemirror_mode": {
    "name": "ipython",
    "version": 3
   },
   "file_extension": ".py",
   "mimetype": "text/x-python",
   "name": "python",
   "nbconvert_exporter": "python",
   "pygments_lexer": "ipython3",
   "version": "3.6.9"
  }
 },
 "nbformat": 4,
 "nbformat_minor": 2
}
