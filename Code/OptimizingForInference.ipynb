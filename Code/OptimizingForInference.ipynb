{
 "cells": [
  {
   "cell_type": "code",
   "execution_count": 31,
   "metadata": {},
   "outputs": [],
   "source": [
    "import tensorflow as tf\n",
    "from tensorflow.python.tools import optimize_for_inference_lib"
   ]
  },
  {
   "cell_type": "code",
   "execution_count": 32,
   "metadata": {},
   "outputs": [],
   "source": [
    "frozen_graph_path=\"../Code/weights/frozen_model.pb\"\n",
    "optimized_graph_path=\"../Code/weights/OptimizedGraph.pb\""
   ]
  },
  {
   "cell_type": "code",
   "execution_count": 33,
   "metadata": {},
   "outputs": [],
   "source": [
    "inputGraph=tf.GraphDef()\n",
    "with tf.gfile.Open(frozen_graph_path,'rb') as f:\n",
    "    read=f.read()\n",
    "    inputGraph.ParseFromString(read)\n",
    "\n",
    "outputGraph=optimize_for_inference_lib.optimize_for_inference(inputGraph,\n",
    "                                                        ['input_image'],# an array of the input node(s),\n",
    "                                                        ['output'],# an array of the output node(s)\n",
    "                                                        tf.float32.as_datatype_enum)\n",
    "\n",
    "#save the optimized graph \n",
    "f=tf.gfile.FastGFile(optimized_graph_path,'w')\n",
    "f.write(outputGraph.SerializeToString())"
   ]
  },
  {
   "cell_type": "code",
   "execution_count": null,
   "metadata": {},
   "outputs": [],
   "source": []
  }
 ],
 "metadata": {
  "kernelspec": {
   "display_name": "Python 3",
   "language": "python",
   "name": "python3"
  },
  "language_info": {
   "codemirror_mode": {
    "name": "ipython",
    "version": 3
   },
   "file_extension": ".py",
   "mimetype": "text/x-python",
   "name": "python",
   "nbconvert_exporter": "python",
   "pygments_lexer": "ipython3",
   "version": "3.6.9"
  }
 },
 "nbformat": 4,
 "nbformat_minor": 2
}
